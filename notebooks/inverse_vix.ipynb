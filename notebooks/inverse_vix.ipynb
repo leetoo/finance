{
 "cells": [
  {
   "cell_type": "markdown",
   "metadata": {},
   "source": [
    "# Inverse VIX ETFs\n",
    "\n",
    "Q. Which of the three ETFs (SVXY, ZIV, EXIV) tracks the inverse of the VIX index well?"
   ]
  },
  {
   "cell_type": "code",
   "execution_count": 3,
   "metadata": {},
   "outputs": [],
   "source": [
    "from datetime import datetime\n",
    "from pandas_datareader import DataReader"
   ]
  },
  {
   "cell_type": "code",
   "execution_count": 10,
   "metadata": {},
   "outputs": [],
   "source": [
    "end = datetime.now()\n",
    "start = datetime(end.year - 1, end.month, end.day)\n",
    "provider = \"yahoo\""
   ]
  },
  {
   "cell_type": "code",
   "execution_count": 11,
   "metadata": {},
   "outputs": [],
   "source": [
    "data_vix = DataReader(\"^VIX\", provider, start, end)\n",
    "data_svxy = DataReader(\"SVXY\", provider, start, end)\n",
    "data_ziv = DataReader(\"ZIV\", provider, start, end)\n",
    "data_exiv = DataReader(\"EXIV\", provider, start, end)"
   ]
  },
  {
   "cell_type": "code",
   "execution_count": 21,
   "metadata": {},
   "outputs": [],
   "source": [
    "data = data_vix[[\"Adj Close\"]]\n",
    "data = data.rename(columns={\"Adj Close\": \"VIX\"})\n",
    "data[\"SVXY\"] = data_svxy[\"Adj Close\"]\n",
    "data[\"ZIV\"] = data_ziv[\"Adj Close\"]\n",
    "data[\"EXIV\"] = data_exiv[\"Adj Close\"]"
   ]
  },
  {
   "cell_type": "code",
   "execution_count": 22,
   "metadata": {},
   "outputs": [
    {
     "data": {
      "text/html": [
       "<div>\n",
       "<style scoped>\n",
       "    .dataframe tbody tr th:only-of-type {\n",
       "        vertical-align: middle;\n",
       "    }\n",
       "\n",
       "    .dataframe tbody tr th {\n",
       "        vertical-align: top;\n",
       "    }\n",
       "\n",
       "    .dataframe thead th {\n",
       "        text-align: right;\n",
       "    }\n",
       "</style>\n",
       "<table border=\"1\" class=\"dataframe\">\n",
       "  <thead>\n",
       "    <tr style=\"text-align: right;\">\n",
       "      <th></th>\n",
       "      <th>VIX</th>\n",
       "      <th>SVXY</th>\n",
       "      <th>ZIV</th>\n",
       "      <th>EXIV</th>\n",
       "    </tr>\n",
       "  </thead>\n",
       "  <tbody>\n",
       "    <tr>\n",
       "      <th>VIX</th>\n",
       "      <td>1.000000</td>\n",
       "      <td>-0.596210</td>\n",
       "      <td>-0.788418</td>\n",
       "      <td>-0.711411</td>\n",
       "    </tr>\n",
       "    <tr>\n",
       "      <th>SVXY</th>\n",
       "      <td>-0.596210</td>\n",
       "      <td>1.000000</td>\n",
       "      <td>0.605299</td>\n",
       "      <td>0.966240</td>\n",
       "    </tr>\n",
       "    <tr>\n",
       "      <th>ZIV</th>\n",
       "      <td>-0.788418</td>\n",
       "      <td>0.605299</td>\n",
       "      <td>1.000000</td>\n",
       "      <td>0.709999</td>\n",
       "    </tr>\n",
       "    <tr>\n",
       "      <th>EXIV</th>\n",
       "      <td>-0.711411</td>\n",
       "      <td>0.966240</td>\n",
       "      <td>0.709999</td>\n",
       "      <td>1.000000</td>\n",
       "    </tr>\n",
       "  </tbody>\n",
       "</table>\n",
       "</div>"
      ],
      "text/plain": [
       "           VIX      SVXY       ZIV      EXIV\n",
       "VIX   1.000000 -0.596210 -0.788418 -0.711411\n",
       "SVXY -0.596210  1.000000  0.605299  0.966240\n",
       "ZIV  -0.788418  0.605299  1.000000  0.709999\n",
       "EXIV -0.711411  0.966240  0.709999  1.000000"
      ]
     },
     "execution_count": 22,
     "metadata": {},
     "output_type": "execute_result"
    }
   ],
   "source": [
    "data.corr()"
   ]
  },
  {
   "cell_type": "code",
   "execution_count": null,
   "metadata": {},
   "outputs": [],
   "source": []
  }
 ],
 "metadata": {
  "kernelspec": {
   "display_name": "Python 3",
   "language": "python",
   "name": "python3"
  },
  "language_info": {
   "codemirror_mode": {
    "name": "ipython",
    "version": 3
   },
   "file_extension": ".py",
   "mimetype": "text/x-python",
   "name": "python",
   "nbconvert_exporter": "python",
   "pygments_lexer": "ipython3",
   "version": "3.6.9"
  }
 },
 "nbformat": 4,
 "nbformat_minor": 4
}
